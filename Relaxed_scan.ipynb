{
 "cells": [
  {
   "cell_type": "code",
   "execution_count": 2,
   "metadata": {
    "collapsed": true
   },
   "outputs": [],
   "source": [
    "import glob\n",
    "import numpy as np\n",
    "from aglaia.wrappers import OSPMRMP\n",
    "import seaborn as sns\n",
    "import matplotlib.pyplot as plt"
   ]
  },
  {
   "cell_type": "code",
   "execution_count": 3,
   "metadata": {
    "collapsed": true
   },
   "outputs": [],
   "source": [
    "y_ccsd = [83.02817931, 60.27401386, 52.09243432, 45.32475002, 39.64773662, 34.81200582,\n",
    " 30.62611513, 26.98240791, 23.82914743, 21.19014199, 19.15846739, 17.90002948,\n",
    " 17.61208648,  9.93091306,  7.71136391,  8.42777009,  7.54323648,  4.48512485,\n",
    "  4.28411202, -2.65378912]"
   ]
  },
  {
   "cell_type": "code",
   "execution_count": 4,
   "metadata": {
    "collapsed": true
   },
   "outputs": [],
   "source": [
    "y_nn = [ 55.607014 ,  43.23327 ,   40.906067,   39.297356 ,  36.98416  ,  33.22004  ,\n",
    " 28.591553 ,  24.180382,   20.314728,   16.533855 ,  12.094241 ,   6.5691433,\n",
    " 0.59881115, 10.741479 ,   8.902009 ,   0.96617985, -0.71948576, -1.435761,\n",
    " -4.5886736,  -7.868675]"
   ]
  },
  {
   "cell_type": "code",
   "execution_count": 5,
   "metadata": {
    "collapsed": false
   },
   "outputs": [
    {
     "data": {
      "image/png": "[encoded data removed]",
      "text/plain": [
       "<matplotlib.figure.Figure at 0x116231b70>"
      ]
     },
     "metadata": {},
     "output_type": "display_data"
    }
   ],
   "source": [
    "x = range(len(y_ccsd))\n",
    "sns.set()\n",
    "plt.scatter(x, y_ccsd)\n",
    "plt.scatter(x, y_nn, c=\"red\")\n",
    "plt.show()"
   ]
  },
  {
   "cell_type": "code",
   "execution_count": 9,
   "metadata": {
    "collapsed": true
   },
   "outputs": [],
   "source": [
    "energies_test = np.loadtxt(\"/Volumes/Transcend/data_sets/relaxed_scan_24/properties_kjmol_demean.txt\", usecols=[1])"
   ]
  },
  {
   "cell_type": "code",
   "execution_count": 11,
   "metadata": {
    "collapsed": false
   },
   "outputs": [
    {
     "data": {
      "image/png": "[encoded data removed]",
      "text/plain": [
       "<matplotlib.figure.Figure at 0x11d669fd0>"
      ]
     },
     "metadata": {},
     "output_type": "display_data"
    }
   ],
   "source": [
    "x = range(len(y_ccsd))\n",
    "plt.scatter(x, energies_test)\n",
    "plt.show()"
   ]
  },
  {
   "cell_type": "code",
   "execution_count": null,
   "metadata": {
    "collapsed": true
   },
   "outputs": [],
   "source": []
  }
 ],
 "metadata": {
  "anaconda-cloud": {},
  "kernelspec": {
   "display_name": "Python [conda env:py36]",
   "language": "python",
   "name": "conda-env-py36-py"
  },
  "language_info": {
   "codemirror_mode": {
    "name": "ipython",
    "version": 3
   },
   "file_extension": ".py",
   "mimetype": "text/x-python",
   "name": "python",
   "nbconvert_exporter": "python",
   "pygments_lexer": "ipython3",
   "version": "3.6.2"
  }
 },
 "nbformat": 4,
 "nbformat_minor": 1
}
