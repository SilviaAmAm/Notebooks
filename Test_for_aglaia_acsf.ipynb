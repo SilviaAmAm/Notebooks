{
 "cells": [
  {
   "cell_type": "code",
   "execution_count": 2,
   "metadata": {
    "collapsed": false
   },
   "outputs": [],
   "source": [
    "import numpy as np\n",
    "import os"
   ]
  },
  {
   "cell_type": "code",
   "execution_count": 2,
   "metadata": {
    "collapsed": true
   },
   "outputs": [],
   "source": [
    "def list_files(dir, key):\n",
    "    \"\"\"\n",
    "    This function walks through a directory and makes a list of the files that have a name containing a particular string\n",
    "    :dir: path to the directory to explore\n",
    "    :key: string to look for in file names\n",
    "    :return: list of files containing \"key\" in their filename\n",
    "    \"\"\"\n",
    "\n",
    "    r = []  # List of files to be joined together\n",
    "    subdirs = [x[0] for x in os.walk(dir)]\n",
    "    for subdir in subdirs:\n",
    "        files = next(os.walk(subdir))[2]\n",
    "\n",
    "        for file in files:\n",
    "            isTrajectory = file.find(key)\n",
    "            if isTrajectory >= 0:\n",
    "                r.append(subdir + \"/\" + file)\n",
    "    return r"
   ]
  },
  {
   "cell_type": "code",
   "execution_count": 3,
   "metadata": {
    "collapsed": true
   },
   "outputs": [],
   "source": [
    "def extract_molpro(MolproInput):\n",
    "    \"\"\"\n",
    "    This function takes one Molpro .out file and returns the geometry, the energy and the partial charges on the atoms.\n",
    "    :MolproInput: the molpro .out file (string)\n",
    "    :return:\n",
    "    :rawData: List of strings with atom label and atom coordinates - example ['C', '0.1, '0.1', '0.1', ...]\n",
    "    :ene: Value of the energy (string)\n",
    "    :partialCh: List of strings with atom label and its partial charge - example ['C', '6.36', 'H', ...]\n",
    "    \"\"\"\n",
    "\n",
    "    # This is the input file\n",
    "    inputFile = open(MolproInput, 'r')\n",
    "\n",
    "    # This will contain the data\n",
    "    rawData = []\n",
    "    ene = \"0\"\n",
    "    partialCh = []\n",
    "\n",
    "    for line in inputFile:\n",
    "        # The geometry is found on the line after the keyword \"geometry={\"\n",
    "        if \"geometry={\" in line:\n",
    "            for i in range(7):\n",
    "                line = next(inputFile)\n",
    "                line = line.strip()\n",
    "                lineSplit = line.split(\" \")\n",
    "                for j in range(len(lineSplit)):\n",
    "                    rawData.append(lineSplit[j])\n",
    "        # The energy is found two lines after the keyword \"Final beta  occupancy:\"\n",
    "        elif \"!RHF-UCCSD(T)-F12b energy\" in line:\n",
    "            line = line.strip()\n",
    "            ene = line[len(\"!RHF-UCCSD(T)-F12b energy\"):].strip()\n",
    "        elif \"Total charge composition:\" in line:\n",
    "            line = next(inputFile)\n",
    "            line = next(inputFile)\n",
    "            for i in range(7):\n",
    "                line = next(inputFile)\n",
    "                lineSplit = line.rstrip().split(\" \")\n",
    "                lineSplit = list(filter(None, lineSplit))\n",
    "                partialCh.append(lineSplit[1])\n",
    "                partialCh.append(lineSplit[-2])\n",
    "\n",
    "    return rawData, ene, partialCh"
   ]
  },
  {
   "cell_type": "code",
   "execution_count": 4,
   "metadata": {
    "collapsed": false
   },
   "outputs": [],
   "source": [
    "file_list = list_files(\"/Volumes/Transcend/data_sets/ccsd\", \"_uCCSD_avtz.out\")[:5]\n",
    "file_list.sort()"
   ]
  },
  {
   "cell_type": "code",
   "execution_count": 5,
   "metadata": {
    "collapsed": false
   },
   "outputs": [],
   "source": [
    "# Iterating over all the files\n",
    "full_geom = []\n",
    "for item in file_list:\n",
    "    # Extracting the geometry and the energy from a Molpro out file\n",
    "    geom, ene, partial_ch = extract_molpro(item)\n",
    "\n",
    "    if len(geom) != 28 or ene == \"0\" or len(partial_ch) != 14:\n",
    "        print(\"The following file couldn't be read properly:\" + str(item) + \"\\n\")\n",
    "\n",
    "    full_geom.append(geom)"
   ]
  },
  {
   "cell_type": "code",
   "execution_count": 6,
   "metadata": {
    "collapsed": true
   },
   "outputs": [],
   "source": [
    "xyz = []\n",
    "Zs = []\n",
    "\n",
    "element_to_Zs = {\"C\": 6, \"H\":1, \"N\":7}"
   ]
  },
  {
   "cell_type": "code",
   "execution_count": 7,
   "metadata": {
    "collapsed": false
   },
   "outputs": [],
   "source": [
    "for item in full_geom:\n",
    "    xyz_sample = []\n",
    "    Zs_sample = []\n",
    "    for i in range(0,28,4):\n",
    "        Zs_sample.append(element_to_Zs[item[i]])\n",
    "        xyz_float = list(map(float, item[i+1:i+4]))\n",
    "        xyz_sample.append(xyz_float)\n",
    "    xyz.append(xyz_sample)\n",
    "    Zs.append(Zs_sample)"
   ]
  },
  {
   "cell_type": "code",
   "execution_count": 8,
   "metadata": {
    "collapsed": false
   },
   "outputs": [],
   "source": [
    "xyz_np = np.asarray(xyz)\n",
    "Zs_np = np.asarray(Zs)"
   ]
  },
  {
   "cell_type": "code",
   "execution_count": 9,
   "metadata": {
    "collapsed": false
   },
   "outputs": [
    {
     "data": {
      "text/plain": [
       "(5, 7, 3)"
      ]
     },
     "execution_count": 9,
     "metadata": {},
     "output_type": "execute_result"
    }
   ],
   "source": [
    "Zs_np.shape\n",
    "xyz_np.shape"
   ]
  },
  {
   "cell_type": "code",
   "execution_count": 10,
   "metadata": {
    "collapsed": true
   },
   "outputs": [],
   "source": [
    "element_list = np.array([7, 6, 1])\n",
    "pair_list = np.array([[1, 1], [6, 1], [7, 1], [6, 6], [6, 7]])"
   ]
  },
  {
   "cell_type": "code",
   "execution_count": 12,
   "metadata": {
    "collapsed": true
   },
   "outputs": [],
   "source": [
    "outfile = \"data_test_acsf.npz\"\n",
    "np.savez(outfile, xyz_np, Zs_np, element_list, pair_list)"
   ]
  },
  {
   "cell_type": "code",
   "execution_count": 17,
   "metadata": {
    "collapsed": false
   },
   "outputs": [
    {
     "data": {
      "text/plain": [
       "['arr_0', 'arr_1', 'arr_2', 'arr_3']"
      ]
     },
     "execution_count": 17,
     "metadata": {},
     "output_type": "execute_result"
    }
   ],
   "source": [
    "input_data = \"data_test_acsf.npz\"\n",
    "data = np.load(input_data)\n",
    "data.files"
   ]
  },
  {
   "cell_type": "code",
   "execution_count": 3,
   "metadata": {
    "collapsed": false
   },
   "outputs": [],
   "source": [
    "xyzs = np.array([[[0.0, 0.0, 0.0],\n",
    "                      [1.0, 0.0, 0.0],\n",
    "                      [0.0, 1.0, 0.0],\n",
    "                      [0.0, 0.0, 1.0]]])\n",
    "\n",
    "Zs_list = np.array([[7, 2, 1, 1]])\n",
    "\n",
    "elements_list = np.array([1, 2, 7])\n",
    "element_pairs_list = np.array([[1, 1], [2, 1], [7, 1], [7, 2]])"
   ]
  },
  {
   "cell_type": "code",
   "execution_count": 4,
   "metadata": {
    "collapsed": true
   },
   "outputs": [],
   "source": [
    "outfile = \"data_test_acsf_01.npz\"\n",
    "np.savez(outfile, xyzs, Zs_list, elements_list, element_pairs_list)"
   ]
  },
  {
   "cell_type": "code",
   "execution_count": 5,
   "metadata": {
    "collapsed": true
   },
   "outputs": [],
   "source": [
    "xyzs = np.array([[[0.0, 0.0, 0.0],\n",
    "                      [1.0, 0.0, 0.0],\n",
    "                      [0.0, 1.0, 0.0],\n",
    "                      [0.0, 0.0, 1.0] ], [[0.0, 0.0, 0.0],\n",
    "                      [1.0, 0.0, 0.0],\n",
    "                      [0.0, 1.0, 0.0],\n",
    "                      [0.0, 0.0, 1.0]] ])\n",
    "\n",
    "Zs_list = np.array([[7, 2, 1, 1], [7, 2, 1, 1]])\n",
    "\n",
    "elements_list = np.array([1, 2, 7])\n",
    "element_pairs_list = np.array([[1, 1], [2, 1], [7, 1], [7, 2]])"
   ]
  },
  {
   "cell_type": "code",
   "execution_count": 6,
   "metadata": {
    "collapsed": true
   },
   "outputs": [],
   "source": [
    "outfile = \"data_test_acsf_02.npz\"\n",
    "np.savez(outfile, xyzs, Zs_list, elements_list, element_pairs_list)"
   ]
  },
  {
   "cell_type": "code",
   "execution_count": null,
   "metadata": {
    "collapsed": true
   },
   "outputs": [],
   "source": []
  }
 ],
 "metadata": {
  "anaconda-cloud": {},
  "kernelspec": {
   "display_name": "Python [conda env:py36]",
   "language": "python",
   "name": "conda-env-py36-py"
  },
  "language_info": {
   "codemirror_mode": {
    "name": "ipython",
    "version": 3
   },
   "file_extension": ".py",
   "mimetype": "text/x-python",
   "name": "python",
   "nbconvert_exporter": "python",
   "pygments_lexer": "ipython3",
   "version": "3.6.2"
  }
 },
 "nbformat": 4,
 "nbformat_minor": 1
}
