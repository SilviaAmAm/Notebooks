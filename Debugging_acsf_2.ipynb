{
 "cells": [
  {
   "cell_type": "code",
   "execution_count": 1,
   "metadata": {
    "collapsed": true
   },
   "outputs": [],
   "source": [
    "from aglaia import symm_funct\n",
    "from aglaia.tests import np_symm_funct\n",
    "from aglaia.tests import tensormol_symm_funct\n",
    "import numpy as np\n",
    "import tensorflow as tf"
   ]
  },
  {
   "cell_type": "code",
   "execution_count": 2,
   "metadata": {
    "collapsed": true
   },
   "outputs": [],
   "source": [
    "input_data = \"/Volumes/Transcend/repositories/Aglaia/aglaia/tests/data_test_acsf_01.npz\"\n",
    "data = np.load(input_data)"
   ]
  },
  {
   "cell_type": "code",
   "execution_count": 3,
   "metadata": {
    "collapsed": true
   },
   "outputs": [],
   "source": [
    "# xyzs = np.expand_dims(data[\"arr_0\"][2], axis=0)\n",
    "# zs = np.expand_dims(data[\"arr_1\"][2], axis=0)\n",
    "xyzs = data[\"arr_0\"]\n",
    "zs = data[\"arr_1\"]\n",
    "elements = data[\"arr_2\"]\n",
    "element_pairs = data[\"arr_3\"]"
   ]
  },
  {
   "cell_type": "code",
   "execution_count": 4,
   "metadata": {
    "collapsed": false
   },
   "outputs": [],
   "source": [
    "acsf_tf_t = symm_funct.generate_parkhill_acsf(xyzs, zs, elements, element_pairs)\n",
    "acsf_tm_t = tensormol_symm_funct.tensormol_acsf(xyzs, zs, elements, element_pairs)"
   ]
  },
  {
   "cell_type": "code",
   "execution_count": 5,
   "metadata": {
    "collapsed": false
   },
   "outputs": [],
   "source": [
    "sess = tf.Session()\n",
    "sess.run(tf.global_variables_initializer())\n",
    "acsf_tf = sess.run(acsf_tf_t)\n",
    "acsf_tm, rad_tm, ang_tm = sess.run(acsf_tm_t)"
   ]
  },
  {
   "cell_type": "code",
   "execution_count": 6,
   "metadata": {
    "collapsed": true
   },
   "outputs": [],
   "source": [
    "radial_cutoff=10.0\n",
    "angular_cutoff=10.0\n",
    "zeta=3.0\n",
    "eta=2.0\n",
    "radial_rs = [0.0, 0.1, 0.2]\n",
    "angular_rs = [0.0, 0.1, 0.2]\n",
    "theta_s = [3.0, 2.0]"
   ]
  },
  {
   "cell_type": "code",
   "execution_count": 7,
   "metadata": {
    "collapsed": false
   },
   "outputs": [],
   "source": [
    "Zs_tf = tf.constant(zs, dtype=tf.int32)\n",
    "xyzs_tf = tf.constant(xyzs, dtype=tf.float32)\n",
    "\n",
    "rad_cutoff = tf.constant(radial_cutoff, dtype=tf.float32)\n",
    "ang_cutoff = tf.constant(angular_cutoff, dtype=tf.float32)\n",
    "rad_rs = tf.constant(radial_rs, dtype=tf.float32)\n",
    "ang_rs = tf.constant(angular_rs, dtype=tf.float32)\n",
    "theta_s = tf.constant(theta_s, dtype=tf.float32)\n",
    "zeta_tf = tf.constant(zeta, dtype=tf.float32)\n",
    "eta_tf = tf.constant(eta, dtype=tf.float32)"
   ]
  },
  {
   "cell_type": "code",
   "execution_count": 8,
   "metadata": {
    "collapsed": false
   },
   "outputs": [],
   "source": [
    "pre_sum_rad = symm_funct.acsf_rad(xyzs_tf, Zs_tf, rad_cutoff, rad_rs, eta_tf) \n",
    "rad_term = symm_funct.sum_rad(pre_sum_rad, Zs_tf, elements, rad_rs) \n",
    "\n",
    "pre_sum_ang = symm_funct.acsf_ang(xyzs_tf, Zs_tf, ang_cutoff, ang_rs, theta_s, zeta_tf, eta_tf) \n",
    "ang_term = symm_funct.sum_ang(pre_sum_ang, Zs_tf, element_pairs, ang_rs, theta_s)"
   ]
  },
  {
   "cell_type": "code",
   "execution_count": 9,
   "metadata": {
    "collapsed": false
   },
   "outputs": [],
   "source": [
    "tf_rad = sess.run(rad_term)\n",
    "tf_ang = sess.run(ang_term)"
   ]
  },
  {
   "cell_type": "code",
   "execution_count": 17,
   "metadata": {
    "collapsed": false
   },
   "outputs": [],
   "source": [
    "tf_rad_sort = np.sort(tf_rad)\n",
    "tm_rad_sort = np.sort(rad_tm)"
   ]
  },
  {
   "cell_type": "code",
   "execution_count": 18,
   "metadata": {
    "collapsed": false
   },
   "outputs": [
    {
     "name": "stdout",
     "output_type": "stream",
     "text": [
      "[[[ 0.          0.          0.         -0.00331055 -0.00484098\n",
      "   -0.00662109 -0.00680131 -0.00968197 -0.01360261]\n",
      "  [ 0.          0.          0.         -0.00177742 -0.00306746\n",
      "   -0.00508621 -0.00331055 -0.00484098 -0.00680131]\n",
      "  [-0.00088871 -0.00088871 -0.00153373 -0.00153373 -0.00254311\n",
      "   -0.00254311 -0.00331055 -0.00484098 -0.00680131]\n",
      "  [-0.00088871 -0.00088871 -0.00153373 -0.00153373 -0.00254311\n",
      "   -0.00254311 -0.00331055 -0.00484098 -0.00680131]]]\n"
     ]
    }
   ],
   "source": [
    "print(tf_rad_sort-tm_rad_sort)"
   ]
  },
  {
   "cell_type": "code",
   "execution_count": 11,
   "metadata": {
    "collapsed": false
   },
   "outputs": [
    {
     "name": "stdout",
     "output_type": "stream",
     "text": [
      "0\n",
      "1\n",
      "2\n",
      "3\n"
     ]
    }
   ],
   "source": [
    "n_atoms = tf_rad.shape[1]\n",
    "for i in range(n_atoms):\n",
    "    tf_rad_sort = np.sort(tf_rad[-1][i])\n",
    "    tm_rad_sort = np.sort(rad_tm[i])\n",
    "    if not np.all(np.isclose(tf_rad_sort, tm_rad_sort, rtol=1e-4)):\n",
    "        print(i)"
   ]
  },
  {
   "cell_type": "code",
   "execution_count": 12,
   "metadata": {
    "collapsed": false
   },
   "outputs": [
    {
     "ename": "NameError",
     "evalue": "name 'n_samples' is not defined",
     "output_type": "error",
     "traceback": [
      "\u001b[0;31m---------------------------------------------------------------------------\u001b[0m",
      "\u001b[0;31mNameError\u001b[0m                                 Traceback (most recent call last)",
      "\u001b[0;32m<ipython-input-12-ef8c5546746a>\u001b[0m in \u001b[0;36m<module>\u001b[0;34m()\u001b[0m\n\u001b[0;32m----> 1\u001b[0;31m \u001b[0;32mfor\u001b[0m \u001b[0mi\u001b[0m \u001b[0;32min\u001b[0m \u001b[0mrange\u001b[0m\u001b[0;34m(\u001b[0m\u001b[0mn_samples\u001b[0m\u001b[0;34m)\u001b[0m\u001b[0;34m:\u001b[0m\u001b[0;34m\u001b[0m\u001b[0m\n\u001b[0m\u001b[1;32m      2\u001b[0m     \u001b[0;32mfor\u001b[0m \u001b[0mj\u001b[0m \u001b[0;32min\u001b[0m \u001b[0mrange\u001b[0m\u001b[0;34m(\u001b[0m\u001b[0mn_atoms\u001b[0m\u001b[0;34m)\u001b[0m\u001b[0;34m:\u001b[0m\u001b[0;34m\u001b[0m\u001b[0m\n\u001b[1;32m      3\u001b[0m         \u001b[0mtf_ang_sort\u001b[0m \u001b[0;34m=\u001b[0m \u001b[0mnp\u001b[0m\u001b[0;34m.\u001b[0m\u001b[0msort\u001b[0m\u001b[0;34m(\u001b[0m\u001b[0mtf_ang\u001b[0m\u001b[0;34m[\u001b[0m\u001b[0mi\u001b[0m\u001b[0;34m]\u001b[0m\u001b[0;34m[\u001b[0m\u001b[0mj\u001b[0m\u001b[0;34m]\u001b[0m\u001b[0;34m)\u001b[0m\u001b[0;34m\u001b[0m\u001b[0m\n\u001b[1;32m      4\u001b[0m         \u001b[0mnp_ang_sort\u001b[0m \u001b[0;34m=\u001b[0m \u001b[0mnp\u001b[0m\u001b[0;34m.\u001b[0m\u001b[0msort\u001b[0m\u001b[0;34m(\u001b[0m\u001b[0mnp_ang\u001b[0m\u001b[0;34m[\u001b[0m\u001b[0mi\u001b[0m\u001b[0;34m]\u001b[0m\u001b[0;34m[\u001b[0m\u001b[0mj\u001b[0m\u001b[0;34m]\u001b[0m\u001b[0;34m)\u001b[0m\u001b[0;34m\u001b[0m\u001b[0m\n\u001b[1;32m      5\u001b[0m         \u001b[0;32mif\u001b[0m \u001b[0;32mnot\u001b[0m \u001b[0mnp\u001b[0m\u001b[0;34m.\u001b[0m\u001b[0mall\u001b[0m\u001b[0;34m(\u001b[0m\u001b[0mnp\u001b[0m\u001b[0;34m.\u001b[0m\u001b[0misclose\u001b[0m\u001b[0;34m(\u001b[0m\u001b[0mtf_ang_sort\u001b[0m\u001b[0;34m,\u001b[0m \u001b[0mnp_ang_sort\u001b[0m\u001b[0;34m,\u001b[0m \u001b[0mrtol\u001b[0m\u001b[0;34m=\u001b[0m\u001b[0;36m1e-4\u001b[0m\u001b[0;34m)\u001b[0m\u001b[0;34m)\u001b[0m\u001b[0;34m:\u001b[0m\u001b[0;34m\u001b[0m\u001b[0m\n",
      "\u001b[0;31mNameError\u001b[0m: name 'n_samples' is not defined"
     ]
    }
   ],
   "source": [
    "for i in range(n_samples):\n",
    "    for j in range(n_atoms):\n",
    "        tf_ang_sort = np.sort(tf_ang[i][j])\n",
    "        np_ang_sort = np.sort(np_ang[i][j])\n",
    "        if not np.all(np.isclose(tf_ang_sort, np_ang_sort, rtol=1e-4)):\n",
    "            print(i,j)"
   ]
  },
  {
   "cell_type": "code",
   "execution_count": null,
   "metadata": {
    "collapsed": true
   },
   "outputs": [],
   "source": []
  }
 ],
 "metadata": {
  "anaconda-cloud": {},
  "kernelspec": {
   "display_name": "Python [conda env:py36]",
   "language": "python",
   "name": "conda-env-py36-py"
  },
  "language_info": {
   "codemirror_mode": {
    "name": "ipython",
    "version": 3
   },
   "file_extension": ".py",
   "mimetype": "text/x-python",
   "name": "python",
   "nbconvert_exporter": "python",
   "pygments_lexer": "ipython3",
   "version": "3.6.3"
  }
 },
 "nbformat": 4,
 "nbformat_minor": 1
}
