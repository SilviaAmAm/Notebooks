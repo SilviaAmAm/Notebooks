{
 "cells": [
  {
   "cell_type": "markdown",
   "metadata": {},
   "source": [
    "Making a small dataset of 10 samples from qm7 to then test if the atom centred symmetry functions work with it."
   ]
  },
  {
   "cell_type": "code",
   "execution_count": 1,
   "metadata": {
    "collapsed": false
   },
   "outputs": [
    {
     "name": "stderr",
     "output_type": "stream",
     "text": [
      "/Users/walfits/anaconda2/envs/py36/lib/python3.6/site-packages/h5py/__init__.py:36: FutureWarning: Conversion of the second argument of issubdtype from `float` to `np.floating` is deprecated. In future, it will be treated as `np.float64 == np.dtype(float).type`.\n",
      "  from ._conv import register_converters as _register_converters\n"
     ]
    }
   ],
   "source": [
    "from aglaia import aglaia\n",
    "import qml\n",
    "import os\n",
    "import numpy as np\n",
    "import joblib"
   ]
  },
  {
   "cell_type": "code",
   "execution_count": 2,
   "metadata": {
    "collapsed": true
   },
   "outputs": [],
   "source": [
    "def list_files(dir, key):\n",
    "    \"\"\"\n",
    "    This function walks through a directory and makes a list of the files that have a name containing a particular string\n",
    "    :dir: path to the directory to explore\n",
    "    :key: string to look for in file names\n",
    "    :return: list of files containing \"key\" in their filename\n",
    "    \"\"\"\n",
    "\n",
    "    r = []  # List of files to be joined together\n",
    "    subdirs = [x[0] for x in os.walk(dir)]\n",
    "    for subdir in subdirs:\n",
    "        files = next(os.walk(subdir))[2]\n",
    "\n",
    "        for file in files:\n",
    "            isTrajectory = file.find(key)\n",
    "            if isTrajectory >= 0:\n",
    "                r.append(subdir + \"/\" + file)\n",
    "    return r"
   ]
  },
  {
   "cell_type": "code",
   "execution_count": 3,
   "metadata": {
    "collapsed": true
   },
   "outputs": [],
   "source": [
    "# Making a list of all the compounds\n",
    "filenames = list_files(\"/Volumes/Transcend/repositories/Aglaia/data/qm7\", \".xyz\")\n",
    "compounds = []\n",
    "for file in filenames[:5]:\n",
    "    compound = qml.Compound(xyz=file)\n",
    "    compounds.append(compound)"
   ]
  },
  {
   "cell_type": "code",
   "execution_count": 4,
   "metadata": {
    "collapsed": true
   },
   "outputs": [],
   "source": [
    "mbtypes = qml.representations.get_slatm_mbtypes([mol.nuclear_charges for mol in compounds])"
   ]
  },
  {
   "cell_type": "code",
   "execution_count": 5,
   "metadata": {
    "collapsed": true
   },
   "outputs": [],
   "source": [
    "elements = []\n",
    "element_pairs = []\n",
    "\n",
    "# Splitting the one and two body interactions in mbtypes\n",
    "for item in mbtypes:\n",
    "    if len(item) == 1:\n",
    "        elements.append(item[0])\n",
    "    if len(item) == 2:\n",
    "        element_pairs.append(list(item))\n",
    "    if len(item) == 3:\n",
    "        break\n",
    "\n",
    "# Need the element pairs in descending order for TF\n",
    "for item in element_pairs:\n",
    "    item.reverse()"
   ]
  },
  {
   "cell_type": "code",
   "execution_count": 6,
   "metadata": {
    "collapsed": false
   },
   "outputs": [],
   "source": [
    "xyzs = []\n",
    "zs = []\n",
    "max_n_atoms=0\n",
    "\n",
    "for compound in compounds:\n",
    "    xyzs.append(compound.coordinates)\n",
    "    zs.append(compound.nuclear_charges)\n",
    "    if len(compound.nuclear_charges) > max_n_atoms:\n",
    "        max_n_atoms = len(compound.nuclear_charges)"
   ]
  },
  {
   "cell_type": "code",
   "execution_count": 7,
   "metadata": {
    "collapsed": true
   },
   "outputs": [],
   "source": [
    "n_samples = len(zs)\n",
    "for i in range(n_samples):\n",
    "    current_n_atoms = len(zs[i])\n",
    "    missing_n_atoms = max_n_atoms - current_n_atoms\n",
    "    zs_padding = np.zeros(missing_n_atoms)\n",
    "    zs[i] = np.concatenate((zs[i], zs_padding))\n",
    "    xyz_padding = np.zeros((missing_n_atoms, 3))\n",
    "    xyzs[i] = np.concatenate((xyzs[i], xyz_padding))"
   ]
  },
  {
   "cell_type": "code",
   "execution_count": 8,
   "metadata": {
    "collapsed": true
   },
   "outputs": [],
   "source": [
    "zs = np.asarray(zs, dtype=np.int32)\n",
    "xyzs = np.asarray(xyzs, dtype=np.float32)"
   ]
  },
  {
   "cell_type": "code",
   "execution_count": 9,
   "metadata": {
    "collapsed": true
   },
   "outputs": [],
   "source": [
    "np.savez(\"qm7_testdata.npz\", xyzs, zs, elements, element_pairs)"
   ]
  },
  {
   "cell_type": "code",
   "execution_count": null,
   "metadata": {
    "collapsed": true
   },
   "outputs": [],
   "source": []
  }
 ],
 "metadata": {
  "anaconda-cloud": {},
  "kernelspec": {
   "display_name": "Python [conda env:py36]",
   "language": "python",
   "name": "conda-env-py36-py"
  },
  "language_info": {
   "codemirror_mode": {
    "name": "ipython",
    "version": 3
   },
   "file_extension": ".py",
   "mimetype": "text/x-python",
   "name": "python",
   "nbconvert_exporter": "python",
   "pygments_lexer": "ipython3",
   "version": "3.6.3"
  }
 },
 "nbformat": 4,
 "nbformat_minor": 1
}
