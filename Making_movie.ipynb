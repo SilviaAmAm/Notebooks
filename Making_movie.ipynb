{
 "cells": [
  {
   "cell_type": "code",
   "execution_count": 1,
   "metadata": {
    "collapsed": true
   },
   "outputs": [],
   "source": [
    "import glob\n",
    "import numpy as np\n",
    "import seaborn as sns\n",
    "import sys\n",
    "sys.path.insert(0, \"/Volumes/Transcend/repositories/Aglaia/data_manip/\")\n",
    "import data_utils as dau"
   ]
  },
  {
   "cell_type": "code",
   "execution_count": 32,
   "metadata": {
    "collapsed": true
   },
   "outputs": [],
   "source": [
    "data = dau.Data_extraction()"
   ]
  },
  {
   "cell_type": "code",
   "execution_count": 42,
   "metadata": {
    "collapsed": false
   },
   "outputs": [
    {
     "name": "stdout",
     "output_type": "stream",
     "text": [
      "The following file couldn't be read properly:/Volumes/Transcend/data_sets/ccsd/CH4CN_19829_uCCSD_avtz.out\n",
      "\n"
     ]
    }
   ],
   "source": [
    "geoms, enes, idxs = data.import_molpro(\"/Volumes/Transcend/data_sets/ccsd\", \"_uCCSD_avtz.out\")"
   ]
  },
  {
   "cell_type": "code",
   "execution_count": 43,
   "metadata": {
    "collapsed": true
   },
   "outputs": [],
   "source": [
    "idxs_traj = np.loadtxt('/Volumes/Transcend/calculations/notebooks/test_idx_vmd.txt', dtype='int')"
   ]
  },
  {
   "cell_type": "code",
   "execution_count": 60,
   "metadata": {
    "collapsed": true
   },
   "outputs": [],
   "source": [
    "movie = open('abstraction.xyz', 'w')"
   ]
  },
  {
   "cell_type": "code",
   "execution_count": 61,
   "metadata": {
    "collapsed": false
   },
   "outputs": [],
   "source": [
    "for idx in idxs_traj:\n",
    "    structure = geoms[idxs[idx]]\n",
    "    n_atoms = len(structure)//4\n",
    "    movie.write(str(n_atoms) + \"\\n\")\n",
    "    movie.write(\"\\n\")\n",
    "\n",
    "    for i in range(0, len(structure), 4):\n",
    "        for j in range(4):\n",
    "            movie.write(str(structure[i+j]))\n",
    "            movie.write(\"\\t\")\n",
    "        movie.write(\"\\n\")\n",
    "movie.close()"
   ]
  },
  {
   "cell_type": "code",
   "execution_count": null,
   "metadata": {
    "collapsed": true
   },
   "outputs": [],
   "source": []
  }
 ],
 "metadata": {
  "anaconda-cloud": {},
  "kernelspec": {
   "display_name": "Python [conda env:py36]",
   "language": "python",
   "name": "conda-env-py36-py"
  },
  "language_info": {
   "codemirror_mode": {
    "name": "ipython",
    "version": 3
   },
   "file_extension": ".py",
   "mimetype": "text/x-python",
   "name": "python",
   "nbconvert_exporter": "python",
   "pygments_lexer": "ipython3",
   "version": "3.6.2"
  }
 },
 "nbformat": 4,
 "nbformat_minor": 1
}
