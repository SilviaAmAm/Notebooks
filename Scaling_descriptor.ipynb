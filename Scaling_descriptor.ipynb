{
 "cells": [
  {
   "cell_type": "code",
   "execution_count": 1,
   "metadata": {
    "collapsed": true
   },
   "outputs": [],
   "source": [
    "import numpy as np\n",
    "import seaborn as sns\n",
    "import matplotlib.pyplot as plt"
   ]
  },
  {
   "cell_type": "code",
   "execution_count": 3,
   "metadata": {
    "collapsed": true
   },
   "outputs": [],
   "source": [
    "n_features = [2346, 1020, 675, 468, 330, 216, 189, 162, 126, 105]\n",
    "time = 21.637118101119995, 10.389608383178711, 8.491008996963501, 7.152189254760742, 6.311314821243286, 5.610414505004883, 5.54518723487854, 5.318596124649048, 4.969899892807007, 5.03537130355835"
   ]
  },
  {
   "cell_type": "code",
   "execution_count": 4,
   "metadata": {
    "collapsed": true
   },
   "outputs": [],
   "source": [
    "time = [35.47142481803894, 19.55548095703125, 12.133850574493408, 10.090798616409302, 7.468622922897339, 6.356721878051758, 5.733726978302002, 5.394285678863525, 5.286547422409058]\n",
    "n_features = [4950, 2346, 1275, 900, 495, 324, 210, 168, 147]"
   ]
  },
  {
   "cell_type": "code",
   "execution_count": 5,
   "metadata": {
    "collapsed": false
   },
   "outputs": [
    {
     "data": {
      "image/png": "[encoded data removed]",
      "text/plain": [
       "<Figure size 432x288 with 1 Axes>"
      ]
     },
     "metadata": {},
     "output_type": "display_data"
    }
   ],
   "source": [
    "sns.set()\n",
    "line_2 = plt.scatter(n_features, time, c=sns.xkcd_rgb[\"denim blue\"], label=\"True values\", marker=\"o\")\n",
    "plt.xlabel(\"Number of features\")\n",
    "plt.ylabel(\"Time (s)\")\n",
    "plt.savefig(\"descriptor_scaling.png\", dpi=200)\n",
    "plt.show()"
   ]
  },
  {
   "cell_type": "code",
   "execution_count": null,
   "metadata": {
    "collapsed": true
   },
   "outputs": [],
   "source": []
  }
 ],
 "metadata": {
  "anaconda-cloud": {},
  "kernelspec": {
   "display_name": "Python [conda env:py36]",
   "language": "python",
   "name": "conda-env-py36-py"
  },
  "language_info": {
   "codemirror_mode": {
    "name": "ipython",
    "version": 3
   },
   "file_extension": ".py",
   "mimetype": "text/x-python",
   "name": "python",
   "nbconvert_exporter": "python",
   "pygments_lexer": "ipython3",
   "version": "3.6.3"
  }
 },
 "nbformat": 4,
 "nbformat_minor": 1
}
