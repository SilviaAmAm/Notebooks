{
 "cells": [
  {
   "cell_type": "code",
   "execution_count": 1,
   "metadata": {
    "collapsed": false
   },
   "outputs": [],
   "source": [
    "import numpy as np\n",
    "from scipy.interpolate import splrep, splev\n",
    "import sys\n",
    "sys.path.insert(0,'/Volumes/Transcend/software/AIMD')\n",
    "from fingerprint import fingerprint\n",
    "from rules import compile_rules\n",
    "from smoothingkernel import *\n",
    "\n",
    "import ase.io\n",
    "from ase import Atoms"
   ]
  },
  {
   "cell_type": "code",
   "execution_count": 2,
   "metadata": {
    "collapsed": false
   },
   "outputs": [],
   "source": [
    "rc = 6.0\n",
    "rules = compile_rules( '''\n",
    "title: LJGaussianWildcard\n",
    "preamble:\n",
    "    - from numpy import exp\n",
    "    - from smoothingkernel import *\n",
    "env:\n",
    "    - rc\n",
    "elements:\n",
    "    '*':\n",
    "        density: 'lambda rij, rjk, exp = exp, wd = Tent( 3, rc, normalize = False ): wd(rij) * exp( -0.5 * rjk**2 / ( 1.5 + rij * 0.25 )**2 ) / ( 1.5 + rij * 0.25 )'\n",
    "        #density: 'lambda rij, rjk, exp = exp: exp( -0.5 * rjk**2 / ( 1.5 + rij * 0.25 )**2 ) / ( 1.5 + rij * 0.25 )'\n",
    "        gravity: 'lambda rij: 1.0'\n",
    "''', rc = rc )"
   ]
  },
  {
   "cell_type": "code",
   "execution_count": 3,
   "metadata": {
    "collapsed": false
   },
   "outputs": [],
   "source": [
    "descr = fingerprint('3-(14,26,38)', rc, 3, [14, 26, 38], rules, weight_int = Tent(5, rc))"
   ]
  },
  {
   "cell_type": "code",
   "execution_count": 11,
   "metadata": {
    "collapsed": false
   },
   "outputs": [
    {
     "data": {
      "text/plain": [
       "<bound method FingerprintBase.info of <class 'fingerprint.Fingerprint_50de4af5db533a4e320d5e6fbceeb441e9751502'>>"
      ]
     },
     "execution_count": 11,
     "metadata": {},
     "output_type": "execute_result"
    }
   ],
   "source": [
    "descr.info"
   ]
  },
  {
   "cell_type": "code",
   "execution_count": 4,
   "metadata": {
    "collapsed": true
   },
   "outputs": [],
   "source": [
    "atoms = Atoms( \"N2\", [[0,0,0],[2,0,0]] )"
   ]
  },
  {
   "cell_type": "code",
   "execution_count": 5,
   "metadata": {
    "collapsed": false
   },
   "outputs": [
    {
     "name": "stdout",
     "output_type": "stream",
     "text": [
      "50\n"
     ]
    }
   ],
   "source": [
    "rmin = 1.0\n",
    "rmax = rc\n",
    "n_sample = int(( rmax - rmin ) // 0.1 + 1)\n",
    "print(n_sample)"
   ]
  },
  {
   "cell_type": "code",
   "execution_count": 6,
   "metadata": {
    "collapsed": true
   },
   "outputs": [],
   "source": [
    "fingerprints = []\n",
    "numbers = np.linspace(rmin, rmax, n_sample)"
   ]
  },
  {
   "cell_type": "code",
   "execution_count": 7,
   "metadata": {
    "collapsed": false
   },
   "outputs": [],
   "source": [
    "forces_a1 = []\n",
    "forces_a2 = []\n",
    "for item in numbers:\n",
    "    forces_a1.append([2*item - 4, 0, 0])\n",
    "    forces_a2.append([-2*item - 4, 0, 0])\n",
    "forces_N2 = [forces_a1, forces_a2]"
   ]
  },
  {
   "cell_type": "code",
   "execution_count": 8,
   "metadata": {
    "collapsed": false
   },
   "outputs": [],
   "source": [
    "for dr in numbers:\n",
    "    atoms.set_positions( [[0,0,0],[dr,0,0]] )\n",
    "    fingerprints.append( descr.extract_one( atoms, 0, force = False ) )\n",
    "    fingerprints[-1].set( y = forces_N2 )"
   ]
  },
  {
   "cell_type": "code",
   "execution_count": 9,
   "metadata": {
    "collapsed": true
   },
   "outputs": [],
   "source": [
    "dist = np.array( [ [ f1 - f2 for f2 in fingerprints ] for f1 in fingerprints ] )\n",
    "dist = dist / dist.max()"
   ]
  }
 ],
 "metadata": {
  "anaconda-cloud": {},
  "kernelspec": {
   "display_name": "Python [conda env:py36]",
   "language": "python",
   "name": "conda-env-py36-py"
  },
  "language_info": {
   "codemirror_mode": {
    "name": "ipython",
    "version": 3
   },
   "file_extension": ".py",
   "mimetype": "text/x-python",
   "name": "python",
   "nbconvert_exporter": "python",
   "pygments_lexer": "ipython3",
   "version": "3.6.2"
  }
 },
 "nbformat": 4,
 "nbformat_minor": 1
}
