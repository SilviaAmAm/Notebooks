{
 "cells": [
  {
   "cell_type": "code",
   "execution_count": 1,
   "metadata": {
    "collapsed": true
   },
   "outputs": [],
   "source": [
    "import numpy as np\n",
    "import seaborn as sns\n",
    "import matplotlib.pyplot as plt"
   ]
  },
  {
   "cell_type": "code",
   "execution_count": 2,
   "metadata": {
    "collapsed": true
   },
   "outputs": [],
   "source": [
    "neg_test_scores = [-11.520442403389218, -7.5583619453385475, -6.254213672932432, -4.503690363451897, -4.523260498655598, -4.2861729980141, -3.943679573342975, -3.3723036974755813, -3.29106537962085, -3.2234681229896913, -2.6069938519190448, -2.305389159693178]\n",
    "training_samples = [70, 350, 700, 1400, 2100, 3500, 4900, 6300, 8400, 9100, 11200, 12504]"
   ]
  },
  {
   "cell_type": "code",
   "execution_count": 3,
   "metadata": {
    "collapsed": true
   },
   "outputs": [],
   "source": [
    "test_scores = []\n",
    "for item in neg_test_scores:\n",
    "    test_scores.append(item * (-1))"
   ]
  },
  {
   "cell_type": "code",
   "execution_count": 4,
   "metadata": {
    "collapsed": false
   },
   "outputs": [
    {
     "data": {
      "image/png": "[encoded data removed]",
      "text/plain": [
       "<Figure size 432x288 with 1 Axes>"
      ]
     },
     "metadata": {},
     "output_type": "display_data"
    }
   ],
   "source": [
    "sns.set()\n",
    "line_2 = plt.scatter(training_samples, test_scores, c=sns.xkcd_rgb[\"denim blue\"], label=\"True values\", marker=\"o\")\n",
    "plt.xlabel(\"Number of training samples\")\n",
    "plt.ylabel(\"test MAE (kJ/mol)\")\n",
    "plt.savefig(\"learning_curve.png\", dpi=200)\n",
    "plt.show()"
   ]
  },
  {
   "cell_type": "code",
   "execution_count": null,
   "metadata": {
    "collapsed": true
   },
   "outputs": [],
   "source": []
  }
 ],
 "metadata": {
  "anaconda-cloud": {},
  "kernelspec": {
   "display_name": "Python [conda env:py36]",
   "language": "python",
   "name": "conda-env-py36-py"
  },
  "language_info": {
   "codemirror_mode": {
    "name": "ipython",
    "version": 3
   },
   "file_extension": ".py",
   "mimetype": "text/x-python",
   "name": "python",
   "nbconvert_exporter": "python",
   "pygments_lexer": "ipython3",
   "version": "3.6.3"
  }
 },
 "nbformat": 4,
 "nbformat_minor": 1
}
