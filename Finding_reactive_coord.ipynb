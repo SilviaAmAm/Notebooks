{
 "cells": [
  {
   "cell_type": "code",
   "execution_count": 1,
   "metadata": {
    "collapsed": true
   },
   "outputs": [],
   "source": [
    "import glob\n",
    "import numpy as np\n",
    "import seaborn as sns\n",
    "import sys\n",
    "sys.path.insert(0, \"/Volumes/Transcend/repositories/Aglaia/data_manip/\")\n",
    "import data_utils as dau"
   ]
  },
  {
   "cell_type": "code",
   "execution_count": 2,
   "metadata": {
    "collapsed": false
   },
   "outputs": [],
   "source": [
    "data = dau.Data_extraction()"
   ]
  },
  {
   "cell_type": "code",
   "execution_count": 3,
   "metadata": {
    "collapsed": false
   },
   "outputs": [
    {
     "name": "stdout",
     "output_type": "stream",
     "text": [
      "The following file couldn't be read properly:/Volumes/Transcend/data_sets/ccsd/CH4CN_19829_uCCSD_avtz.out\n",
      "\n"
     ]
    }
   ],
   "source": [
    "geoms, enes, idxs = data.import_molpro(\"/Volumes/Transcend/data_sets/ccsd\", \"_uCCSD_avtz.out\")"
   ]
  },
  {
   "cell_type": "code",
   "execution_count": 4,
   "metadata": {
    "collapsed": false
   },
   "outputs": [
    {
     "name": "stdout",
     "output_type": "stream",
     "text": [
      "['C', '1.948153', '3.622904', '2.081111', 'H', '2.049626', '3.765616', '1.000288', 'H', '2.693285', '2.923731', '2.34432', 'H', '2.305255', '4.578571', '2.579651', 'H', '0.8890423', '3.606824', '2.399583', 'C', '-0.4147356', '2.940226', '-2.453864', 'N', '-0.8764732', '1.892105', '-2.385047']\n"
     ]
    }
   ],
   "source": [
    "print(geoms[idxs[0]])"
   ]
  },
  {
   "cell_type": "code",
   "execution_count": 5,
   "metadata": {
    "collapsed": true
   },
   "outputs": [],
   "source": [
    "import pandas as pd"
   ]
  },
  {
   "cell_type": "code",
   "execution_count": 7,
   "metadata": {
    "collapsed": false
   },
   "outputs": [
    {
     "data": {
      "text/html": [
       "<div>\n",
       "<style>\n",
       "    .dataframe thead tr:only-child th {\n",
       "        text-align: right;\n",
       "    }\n",
       "\n",
       "    .dataframe thead th {\n",
       "        text-align: left;\n",
       "    }\n",
       "\n",
       "    .dataframe tbody tr th {\n",
       "        vertical-align: top;\n",
       "    }\n",
       "</style>\n",
       "<table border=\"1\" class=\"dataframe\">\n",
       "  <thead>\n",
       "    <tr style=\"text-align: right;\">\n",
       "      <th></th>\n",
       "      <th>Indices</th>\n",
       "    </tr>\n",
       "  </thead>\n",
       "  <tbody>\n",
       "    <tr>\n",
       "      <th>0</th>\n",
       "      <td>2</td>\n",
       "    </tr>\n",
       "    <tr>\n",
       "      <th>1</th>\n",
       "      <td>3</td>\n",
       "    </tr>\n",
       "    <tr>\n",
       "      <th>2</th>\n",
       "      <td>4</td>\n",
       "    </tr>\n",
       "    <tr>\n",
       "      <th>3</th>\n",
       "      <td>5</td>\n",
       "    </tr>\n",
       "    <tr>\n",
       "      <th>4</th>\n",
       "      <td>6</td>\n",
       "    </tr>\n",
       "  </tbody>\n",
       "</table>\n",
       "</div>"
      ],
      "text/plain": [
       "   Indices\n",
       "0        2\n",
       "1        3\n",
       "2        4\n",
       "3        5\n",
       "4        6"
      ]
     },
     "execution_count": 7,
     "metadata": {},
     "output_type": "execute_result"
    }
   ],
   "source": [
    "df = pd.DataFrame()\n",
    "df[\"Indices\"] = idxs\n",
    "df.head()"
   ]
  },
  {
   "cell_type": "code",
   "execution_count": 8,
   "metadata": {
    "collapsed": true
   },
   "outputs": [],
   "source": [
    "def dist_sq(a, b):\n",
    "    dist_squared = 0\n",
    "    for i in range(len(a)):\n",
    "        term = (b[i] - a[i])**2\n",
    "        dist_squared += term\n",
    "        \n",
    "    return dist_squared"
   ]
  },
  {
   "cell_type": "code",
   "execution_count": 9,
   "metadata": {
    "collapsed": false
   },
   "outputs": [],
   "source": [
    "c0h = []\n",
    "c5h = []\n",
    "energies = []\n",
    "\n",
    "for idx in idxs:\n",
    "    # Getting C coordinates\n",
    "    c0_xyz = [float(geoms[idx][1]), float(geoms[idx][2]), float(geoms[idx][3]) ]\n",
    "    c5_xyz = [float(geoms[idx][21]), float(geoms[idx][22]), float(geoms[idx][23]) ]\n",
    "    h1_xyz = [float(geoms[idx][5]), float(geoms[idx][6]), float(geoms[idx][7]) ]\n",
    "    \n",
    "    idx_closest_H = 1\n",
    "    min_c5h_dist = dist_sq(c5_xyz, h1_xyz)\n",
    "    \n",
    "    for i in range(2, 5):\n",
    "        h_xyz = [float(geoms[idx][4*i+1]), float(geoms[idx][4*i+2]), float(geoms[idx][4*i+3]) ]\n",
    "        dist = dist_sq(c5_xyz, h_xyz)\n",
    "        if dist < min_c5h_dist:\n",
    "            min_c5h_dist = dist\n",
    "            idx_closest_H = i\n",
    "            \n",
    "    c5h.append(min_c5h_dist)\n",
    "    closest_H = [float(geoms[idx][4*idx_closest_H+1]), float(geoms[idx][4*idx_closest_H+2]), float(geoms[idx][4*idx_closest_H+3]) ]\n",
    "    c0h_dist = dist_sq(c0_xyz, closest_H)\n",
    "    c0h.append(c0h_dist)\n",
    "    \n",
    "    energies.append(enes[idx])\n",
    "    "
   ]
  },
  {
   "cell_type": "code",
   "execution_count": 10,
   "metadata": {
    "collapsed": false
   },
   "outputs": [],
   "source": [
    "df[\"c0h\"] = c0h\n",
    "df[\"c5h\"] = c5h"
   ]
  },
  {
   "cell_type": "code",
   "execution_count": 11,
   "metadata": {
    "collapsed": true
   },
   "outputs": [],
   "source": [
    "df[\"energies\"] = energies"
   ]
  },
  {
   "cell_type": "code",
   "execution_count": 12,
   "metadata": {
    "collapsed": false
   },
   "outputs": [
    {
     "data": {
      "text/html": [
       "<div>\n",
       "<style>\n",
       "    .dataframe thead tr:only-child th {\n",
       "        text-align: right;\n",
       "    }\n",
       "\n",
       "    .dataframe thead th {\n",
       "        text-align: left;\n",
       "    }\n",
       "\n",
       "    .dataframe tbody tr th {\n",
       "        vertical-align: top;\n",
       "    }\n",
       "</style>\n",
       "<table border=\"1\" class=\"dataframe\">\n",
       "  <thead>\n",
       "    <tr style=\"text-align: right;\">\n",
       "      <th></th>\n",
       "      <th>Indices</th>\n",
       "      <th>c0h</th>\n",
       "      <th>c5h</th>\n",
       "      <th>energies</th>\n",
       "    </tr>\n",
       "  </thead>\n",
       "  <tbody>\n",
       "    <tr>\n",
       "      <th>0</th>\n",
       "      <td>2</td>\n",
       "      <td>1.198842</td>\n",
       "      <td>18.685513</td>\n",
       "      <td>-133.032821</td>\n",
       "    </tr>\n",
       "    <tr>\n",
       "      <th>1</th>\n",
       "      <td>3</td>\n",
       "      <td>14.838238</td>\n",
       "      <td>1.048558</td>\n",
       "      <td>-133.070001</td>\n",
       "    </tr>\n",
       "    <tr>\n",
       "      <th>2</th>\n",
       "      <td>4</td>\n",
       "      <td>14.825546</td>\n",
       "      <td>1.094260</td>\n",
       "      <td>-133.068409</td>\n",
       "    </tr>\n",
       "    <tr>\n",
       "      <th>3</th>\n",
       "      <td>5</td>\n",
       "      <td>14.605547</td>\n",
       "      <td>1.184331</td>\n",
       "      <td>-133.063998</td>\n",
       "    </tr>\n",
       "    <tr>\n",
       "      <th>4</th>\n",
       "      <td>6</td>\n",
       "      <td>7.811587</td>\n",
       "      <td>1.099887</td>\n",
       "      <td>-133.062377</td>\n",
       "    </tr>\n",
       "  </tbody>\n",
       "</table>\n",
       "</div>"
      ],
      "text/plain": [
       "   Indices        c0h        c5h    energies\n",
       "0        2   1.198842  18.685513 -133.032821\n",
       "1        3  14.838238   1.048558 -133.070001\n",
       "2        4  14.825546   1.094260 -133.068409\n",
       "3        5  14.605547   1.184331 -133.063998\n",
       "4        6   7.811587   1.099887 -133.062377"
      ]
     },
     "execution_count": 12,
     "metadata": {},
     "output_type": "execute_result"
    }
   ],
   "source": [
    "df.head()"
   ]
  },
  {
   "cell_type": "code",
   "execution_count": 13,
   "metadata": {
    "collapsed": false
   },
   "outputs": [
    {
     "data": {
      "image/png": "[encoded data removed]",
      "text/plain": [
       "<matplotlib.figure.Figure at 0x10f037208>"
      ]
     },
     "metadata": {},
     "output_type": "display_data"
    }
   ],
   "source": [
    "import matplotlib.pyplot as plt\n",
    "df.plot.scatter(x='c0h', y='c5h', c='energies', s=10)\n",
    "plt.ylim(0,10)\n",
    "plt.xlim(0,10)\n",
    "plt.show()"
   ]
  },
  {
   "cell_type": "code",
   "execution_count": 14,
   "metadata": {
    "collapsed": false
   },
   "outputs": [
    {
     "name": "stderr",
     "output_type": "stream",
     "text": [
      "/Users/walfits/anaconda2/envs/py36/lib/python3.6/site-packages/ipykernel/__main__.py:3: UserWarning: Boolean Series key will be reindexed to match DataFrame index.\n",
      "  app.launch_new_instance()\n"
     ]
    },
    {
     "data": {
      "text/html": [
       "<div>\n",
       "<style>\n",
       "    .dataframe thead tr:only-child th {\n",
       "        text-align: right;\n",
       "    }\n",
       "\n",
       "    .dataframe thead th {\n",
       "        text-align: left;\n",
       "    }\n",
       "\n",
       "    .dataframe tbody tr th {\n",
       "        vertical-align: top;\n",
       "    }\n",
       "</style>\n",
       "<table border=\"1\" class=\"dataframe\">\n",
       "  <thead>\n",
       "    <tr style=\"text-align: right;\">\n",
       "      <th></th>\n",
       "      <th>Indices</th>\n",
       "      <th>c0h</th>\n",
       "      <th>c5h</th>\n",
       "      <th>energies</th>\n",
       "    </tr>\n",
       "  </thead>\n",
       "  <tbody>\n",
       "    <tr>\n",
       "      <th>6</th>\n",
       "      <td>8</td>\n",
       "      <td>6.201439</td>\n",
       "      <td>1.158733</td>\n",
       "      <td>-133.060852</td>\n",
       "    </tr>\n",
       "    <tr>\n",
       "      <th>7</th>\n",
       "      <td>9</td>\n",
       "      <td>5.433980</td>\n",
       "      <td>1.210086</td>\n",
       "      <td>-133.058382</td>\n",
       "    </tr>\n",
       "    <tr>\n",
       "      <th>8</th>\n",
       "      <td>10</td>\n",
       "      <td>4.653985</td>\n",
       "      <td>1.250318</td>\n",
       "      <td>-133.053694</td>\n",
       "    </tr>\n",
       "    <tr>\n",
       "      <th>10</th>\n",
       "      <td>12</td>\n",
       "      <td>1.600100</td>\n",
       "      <td>1.810148</td>\n",
       "      <td>-133.021768</td>\n",
       "    </tr>\n",
       "    <tr>\n",
       "      <th>11</th>\n",
       "      <td>13</td>\n",
       "      <td>1.539786</td>\n",
       "      <td>1.895539</td>\n",
       "      <td>-133.024668</td>\n",
       "    </tr>\n",
       "  </tbody>\n",
       "</table>\n",
       "</div>"
      ],
      "text/plain": [
       "    Indices       c0h       c5h    energies\n",
       "6         8  6.201439  1.158733 -133.060852\n",
       "7         9  5.433980  1.210086 -133.058382\n",
       "8        10  4.653985  1.250318 -133.053694\n",
       "10       12  1.600100  1.810148 -133.021768\n",
       "11       13  1.539786  1.895539 -133.024668"
      ]
     },
     "execution_count": 14,
     "metadata": {},
     "output_type": "execute_result"
    }
   ],
   "source": [
    "df_prun1 = df.drop(df[df['c0h'] > 6.25].index)\n",
    "df_prun2 = df_prun1.drop(df[df['c5h'] > 6.25].index)\n",
    "df_prun3 = df_prun2.drop(df_prun2[(df_prun2['c0h'] > 4) & (df['c5h'] > 2.5)].index)\n",
    "df_prun3.head()"
   ]
  },
  {
   "cell_type": "code",
   "execution_count": 15,
   "metadata": {
    "collapsed": false
   },
   "outputs": [
    {
     "data": {
      "text/html": [
       "<div>\n",
       "<style>\n",
       "    .dataframe thead tr:only-child th {\n",
       "        text-align: right;\n",
       "    }\n",
       "\n",
       "    .dataframe thead th {\n",
       "        text-align: left;\n",
       "    }\n",
       "\n",
       "    .dataframe tbody tr th {\n",
       "        vertical-align: top;\n",
       "    }\n",
       "</style>\n",
       "<table border=\"1\" class=\"dataframe\">\n",
       "  <thead>\n",
       "    <tr style=\"text-align: right;\">\n",
       "      <th></th>\n",
       "      <th>Indices</th>\n",
       "      <th>c0h</th>\n",
       "      <th>c5h</th>\n",
       "      <th>energies</th>\n",
       "    </tr>\n",
       "  </thead>\n",
       "  <tbody>\n",
       "    <tr>\n",
       "      <th>6</th>\n",
       "      <td>8</td>\n",
       "      <td>6.201439</td>\n",
       "      <td>1.158733</td>\n",
       "      <td>-133.060852</td>\n",
       "    </tr>\n",
       "    <tr>\n",
       "      <th>7</th>\n",
       "      <td>9</td>\n",
       "      <td>5.433980</td>\n",
       "      <td>1.210086</td>\n",
       "      <td>-133.058382</td>\n",
       "    </tr>\n",
       "    <tr>\n",
       "      <th>8</th>\n",
       "      <td>10</td>\n",
       "      <td>4.653985</td>\n",
       "      <td>1.250318</td>\n",
       "      <td>-133.053694</td>\n",
       "    </tr>\n",
       "    <tr>\n",
       "      <th>10</th>\n",
       "      <td>12</td>\n",
       "      <td>1.600100</td>\n",
       "      <td>1.810148</td>\n",
       "      <td>-133.021768</td>\n",
       "    </tr>\n",
       "    <tr>\n",
       "      <th>11</th>\n",
       "      <td>13</td>\n",
       "      <td>1.539786</td>\n",
       "      <td>1.895539</td>\n",
       "      <td>-133.024668</td>\n",
       "    </tr>\n",
       "  </tbody>\n",
       "</table>\n",
       "</div>"
      ],
      "text/plain": [
       "    Indices       c0h       c5h    energies\n",
       "6         8  6.201439  1.158733 -133.060852\n",
       "7         9  5.433980  1.210086 -133.058382\n",
       "8        10  4.653985  1.250318 -133.053694\n",
       "10       12  1.600100  1.810148 -133.021768\n",
       "11       13  1.539786  1.895539 -133.024668"
      ]
     },
     "execution_count": 15,
     "metadata": {},
     "output_type": "execute_result"
    }
   ],
   "source": [
    "df_prun2.head()"
   ]
  },
  {
   "cell_type": "code",
   "execution_count": 16,
   "metadata": {
    "collapsed": false
   },
   "outputs": [
    {
     "data": {
      "image/png": "[encoded data removed]",
      "text/plain": [
       "<matplotlib.figure.Figure at 0x10c9619b0>"
      ]
     },
     "metadata": {},
     "output_type": "display_data"
    }
   ],
   "source": [
    "df_prun3.plot.scatter(x='c0h', y='c5h', c='energies', s=10)\n",
    "plt.ylim(0,7)\n",
    "plt.xlim(0,7)\n",
    "plt.show()"
   ]
  },
  {
   "cell_type": "code",
   "execution_count": 50,
   "metadata": {
    "collapsed": false
   },
   "outputs": [
    {
     "data": {
      "text/html": [
       "<div>\n",
       "<style>\n",
       "    .dataframe thead tr:only-child th {\n",
       "        text-align: right;\n",
       "    }\n",
       "\n",
       "    .dataframe thead th {\n",
       "        text-align: left;\n",
       "    }\n",
       "\n",
       "    .dataframe tbody tr th {\n",
       "        vertical-align: top;\n",
       "    }\n",
       "</style>\n",
       "<table border=\"1\" class=\"dataframe\">\n",
       "  <thead>\n",
       "    <tr style=\"text-align: right;\">\n",
       "      <th></th>\n",
       "      <th>Indices</th>\n",
       "      <th>c0h</th>\n",
       "      <th>c5h</th>\n",
       "      <th>energies</th>\n",
       "      <th>c0h_cut</th>\n",
       "      <th>c5h_cut</th>\n",
       "    </tr>\n",
       "  </thead>\n",
       "  <tbody>\n",
       "    <tr>\n",
       "      <th>6</th>\n",
       "      <td>8</td>\n",
       "      <td>6.201439</td>\n",
       "      <td>1.158733</td>\n",
       "      <td>-133.060852</td>\n",
       "      <td>19</td>\n",
       "      <td>1</td>\n",
       "    </tr>\n",
       "    <tr>\n",
       "      <th>7</th>\n",
       "      <td>9</td>\n",
       "      <td>5.433980</td>\n",
       "      <td>1.210086</td>\n",
       "      <td>-133.058382</td>\n",
       "      <td>18</td>\n",
       "      <td>2</td>\n",
       "    </tr>\n",
       "    <tr>\n",
       "      <th>8</th>\n",
       "      <td>10</td>\n",
       "      <td>4.653985</td>\n",
       "      <td>1.250318</td>\n",
       "      <td>-133.053694</td>\n",
       "      <td>15</td>\n",
       "      <td>3</td>\n",
       "    </tr>\n",
       "    <tr>\n",
       "      <th>10</th>\n",
       "      <td>12</td>\n",
       "      <td>1.600100</td>\n",
       "      <td>1.810148</td>\n",
       "      <td>-133.021768</td>\n",
       "      <td>7</td>\n",
       "      <td>11</td>\n",
       "    </tr>\n",
       "    <tr>\n",
       "      <th>11</th>\n",
       "      <td>13</td>\n",
       "      <td>1.539786</td>\n",
       "      <td>1.895539</td>\n",
       "      <td>-133.024668</td>\n",
       "      <td>6</td>\n",
       "      <td>12</td>\n",
       "    </tr>\n",
       "  </tbody>\n",
       "</table>\n",
       "</div>"
      ],
      "text/plain": [
       "    Indices       c0h       c5h    energies c0h_cut c5h_cut\n",
       "6         8  6.201439  1.158733 -133.060852      19       1\n",
       "7         9  5.433980  1.210086 -133.058382      18       2\n",
       "8        10  4.653985  1.250318 -133.053694      15       3\n",
       "10       12  1.600100  1.810148 -133.021768       7      11\n",
       "11       13  1.539786  1.895539 -133.024668       6      12"
      ]
     },
     "execution_count": 50,
     "metadata": {},
     "output_type": "execute_result"
    }
   ],
   "source": [
    "n_bins = 20\n",
    "df_binned = df_prun3.assign(\n",
    "    c5h_cut=pd.qcut(df_prun2['c5h'], n_bins, labels=range(n_bins)),\n",
    "    c0h_cut=pd.qcut(df_prun2['c0h'], n_bins, labels=range(n_bins))\n",
    ")\n",
    "df_binned.head()"
   ]
  },
  {
   "cell_type": "code",
   "execution_count": 51,
   "metadata": {
    "collapsed": false
   },
   "outputs": [
    {
     "data": {
      "text/html": [
       "<div>\n",
       "<style>\n",
       "    .dataframe thead tr:only-child th {\n",
       "        text-align: right;\n",
       "    }\n",
       "\n",
       "    .dataframe thead th {\n",
       "        text-align: left;\n",
       "    }\n",
       "\n",
       "    .dataframe tbody tr th {\n",
       "        vertical-align: top;\n",
       "    }\n",
       "</style>\n",
       "<table border=\"1\" class=\"dataframe\">\n",
       "  <thead>\n",
       "    <tr style=\"text-align: right;\">\n",
       "      <th></th>\n",
       "      <th>Indices</th>\n",
       "      <th>c0h</th>\n",
       "      <th>c5h</th>\n",
       "      <th>energies</th>\n",
       "      <th>c0h_cut</th>\n",
       "      <th>c5h_cut</th>\n",
       "      <th>cartesian</th>\n",
       "    </tr>\n",
       "  </thead>\n",
       "  <tbody>\n",
       "    <tr>\n",
       "      <th>6</th>\n",
       "      <td>8</td>\n",
       "      <td>6.201439</td>\n",
       "      <td>1.158733</td>\n",
       "      <td>-133.060852</td>\n",
       "      <td>19</td>\n",
       "      <td>1</td>\n",
       "      <td>(19, 1)</td>\n",
       "    </tr>\n",
       "    <tr>\n",
       "      <th>7</th>\n",
       "      <td>9</td>\n",
       "      <td>5.433980</td>\n",
       "      <td>1.210086</td>\n",
       "      <td>-133.058382</td>\n",
       "      <td>18</td>\n",
       "      <td>2</td>\n",
       "      <td>(18, 2)</td>\n",
       "    </tr>\n",
       "    <tr>\n",
       "      <th>8</th>\n",
       "      <td>10</td>\n",
       "      <td>4.653985</td>\n",
       "      <td>1.250318</td>\n",
       "      <td>-133.053694</td>\n",
       "      <td>15</td>\n",
       "      <td>3</td>\n",
       "      <td>(15, 3)</td>\n",
       "    </tr>\n",
       "    <tr>\n",
       "      <th>10</th>\n",
       "      <td>12</td>\n",
       "      <td>1.600100</td>\n",
       "      <td>1.810148</td>\n",
       "      <td>-133.021768</td>\n",
       "      <td>7</td>\n",
       "      <td>11</td>\n",
       "      <td>(7, 11)</td>\n",
       "    </tr>\n",
       "    <tr>\n",
       "      <th>11</th>\n",
       "      <td>13</td>\n",
       "      <td>1.539786</td>\n",
       "      <td>1.895539</td>\n",
       "      <td>-133.024668</td>\n",
       "      <td>6</td>\n",
       "      <td>12</td>\n",
       "      <td>(6, 12)</td>\n",
       "    </tr>\n",
       "  </tbody>\n",
       "</table>\n",
       "</div>"
      ],
      "text/plain": [
       "    Indices       c0h       c5h    energies c0h_cut c5h_cut cartesian\n",
       "6         8  6.201439  1.158733 -133.060852      19       1   (19, 1)\n",
       "7         9  5.433980  1.210086 -133.058382      18       2   (18, 2)\n",
       "8        10  4.653985  1.250318 -133.053694      15       3   (15, 3)\n",
       "10       12  1.600100  1.810148 -133.021768       7      11   (7, 11)\n",
       "11       13  1.539786  1.895539 -133.024668       6      12   (6, 12)"
      ]
     },
     "execution_count": 51,
     "metadata": {},
     "output_type": "execute_result"
    }
   ],
   "source": [
    "df_2d_bin = df_binned.assign(cartesian=pd.Categorical(df_binned.filter(regex='_cut').apply(tuple, 1)))\n",
    "df_2d_bin.head()"
   ]
  },
  {
   "cell_type": "code",
   "execution_count": 52,
   "metadata": {
    "collapsed": false
   },
   "outputs": [
    {
     "data": {
      "text/html": [
       "<div>\n",
       "<style>\n",
       "    .dataframe thead tr:only-child th {\n",
       "        text-align: right;\n",
       "    }\n",
       "\n",
       "    .dataframe thead th {\n",
       "        text-align: left;\n",
       "    }\n",
       "\n",
       "    .dataframe tbody tr th {\n",
       "        vertical-align: top;\n",
       "    }\n",
       "</style>\n",
       "<table border=\"1\" class=\"dataframe\">\n",
       "  <thead>\n",
       "    <tr style=\"text-align: right;\">\n",
       "      <th></th>\n",
       "      <th>Indices</th>\n",
       "      <th>c0h</th>\n",
       "      <th>c5h</th>\n",
       "      <th>energies</th>\n",
       "      <th>c0h_cut</th>\n",
       "      <th>c5h_cut</th>\n",
       "      <th>cartesian</th>\n",
       "    </tr>\n",
       "  </thead>\n",
       "  <tbody>\n",
       "    <tr>\n",
       "      <th>12326</th>\n",
       "      <td>14474</td>\n",
       "      <td>1.187843</td>\n",
       "      <td>1.624275</td>\n",
       "      <td>-133.018024</td>\n",
       "      <td>0</td>\n",
       "      <td>9</td>\n",
       "      <td>(0, 9)</td>\n",
       "    </tr>\n",
       "    <tr>\n",
       "      <th>12228</th>\n",
       "      <td>14365</td>\n",
       "      <td>1.179759</td>\n",
       "      <td>1.724640</td>\n",
       "      <td>-133.024218</td>\n",
       "      <td>0</td>\n",
       "      <td>10</td>\n",
       "      <td>(0, 10)</td>\n",
       "    </tr>\n",
       "    <tr>\n",
       "      <th>11409</th>\n",
       "      <td>13408</td>\n",
       "      <td>1.190321</td>\n",
       "      <td>1.793086</td>\n",
       "      <td>-133.027615</td>\n",
       "      <td>0</td>\n",
       "      <td>11</td>\n",
       "      <td>(0, 11)</td>\n",
       "    </tr>\n",
       "    <tr>\n",
       "      <th>3059</th>\n",
       "      <td>3608</td>\n",
       "      <td>1.193069</td>\n",
       "      <td>1.789562</td>\n",
       "      <td>-133.026499</td>\n",
       "      <td>0</td>\n",
       "      <td>11</td>\n",
       "      <td>(0, 11)</td>\n",
       "    </tr>\n",
       "    <tr>\n",
       "      <th>9667</th>\n",
       "      <td>11392</td>\n",
       "      <td>1.204818</td>\n",
       "      <td>2.000598</td>\n",
       "      <td>-133.024432</td>\n",
       "      <td>0</td>\n",
       "      <td>12</td>\n",
       "      <td>(0, 12)</td>\n",
       "    </tr>\n",
       "  </tbody>\n",
       "</table>\n",
       "</div>"
      ],
      "text/plain": [
       "       Indices       c0h       c5h    energies c0h_cut c5h_cut cartesian\n",
       "12326    14474  1.187843  1.624275 -133.018024       0       9    (0, 9)\n",
       "12228    14365  1.179759  1.724640 -133.024218       0      10   (0, 10)\n",
       "11409    13408  1.190321  1.793086 -133.027615       0      11   (0, 11)\n",
       "3059      3608  1.193069  1.789562 -133.026499       0      11   (0, 11)\n",
       "9667     11392  1.204818  2.000598 -133.024432       0      12   (0, 12)"
      ]
     },
     "execution_count": 52,
     "metadata": {},
     "output_type": "execute_result"
    }
   ],
   "source": [
    "df_sorted = df_2d_bin.sort_values(by=[\"cartesian\",\"energies\"])\n",
    "df_sorted.head()"
   ]
  },
  {
   "cell_type": "code",
   "execution_count": 53,
   "metadata": {
    "collapsed": true
   },
   "outputs": [],
   "source": [
    "df_final = df_sorted.drop_duplicates(subset=\"cartesian\", keep=\"first\")"
   ]
  },
  {
   "cell_type": "code",
   "execution_count": 54,
   "metadata": {
    "collapsed": false
   },
   "outputs": [
    {
     "data": {
      "image/png": "[encoded data removed]",
      "text/plain": [
       "<matplotlib.figure.Figure at 0x114e56d30>"
      ]
     },
     "metadata": {},
     "output_type": "display_data"
    }
   ],
   "source": [
    "df_final.plot.scatter(x='c0h', y='c5h', c='energies', s=10)\n",
    "plt.ylim(0,10)\n",
    "plt.xlim(0,10)\n",
    "plt.show()"
   ]
  },
  {
   "cell_type": "code",
   "execution_count": 22,
   "metadata": {
    "collapsed": false
   },
   "outputs": [
    {
     "data": {
      "text/html": [
       "<div>\n",
       "<style>\n",
       "    .dataframe thead tr:only-child th {\n",
       "        text-align: right;\n",
       "    }\n",
       "\n",
       "    .dataframe thead th {\n",
       "        text-align: left;\n",
       "    }\n",
       "\n",
       "    .dataframe tbody tr th {\n",
       "        vertical-align: top;\n",
       "    }\n",
       "</style>\n",
       "<table border=\"1\" class=\"dataframe\">\n",
       "  <thead>\n",
       "    <tr style=\"text-align: right;\">\n",
       "      <th></th>\n",
       "      <th>Indices</th>\n",
       "      <th>c0h</th>\n",
       "      <th>c5h</th>\n",
       "      <th>energies</th>\n",
       "      <th>c0h_cut</th>\n",
       "      <th>c5h_cut</th>\n",
       "      <th>cartesian</th>\n",
       "    </tr>\n",
       "  </thead>\n",
       "  <tbody>\n",
       "    <tr>\n",
       "      <th>11410</th>\n",
       "      <td>13409</td>\n",
       "      <td>1.358167</td>\n",
       "      <td>1.596017</td>\n",
       "      <td>-133.033312</td>\n",
       "      <td>0</td>\n",
       "      <td>2</td>\n",
       "      <td>(0, 2)</td>\n",
       "    </tr>\n",
       "    <tr>\n",
       "      <th>13946</th>\n",
       "      <td>16350</td>\n",
       "      <td>1.302561</td>\n",
       "      <td>3.156200</td>\n",
       "      <td>-133.037843</td>\n",
       "      <td>0</td>\n",
       "      <td>3</td>\n",
       "      <td>(0, 3)</td>\n",
       "    </tr>\n",
       "    <tr>\n",
       "      <th>8247</th>\n",
       "      <td>9742</td>\n",
       "      <td>1.206473</td>\n",
       "      <td>3.983276</td>\n",
       "      <td>-133.079256</td>\n",
       "      <td>0</td>\n",
       "      <td>4</td>\n",
       "      <td>(0, 4)</td>\n",
       "    </tr>\n",
       "    <tr>\n",
       "      <th>10293</th>\n",
       "      <td>12096</td>\n",
       "      <td>1.674298</td>\n",
       "      <td>1.235916</td>\n",
       "      <td>-133.035990</td>\n",
       "      <td>1</td>\n",
       "      <td>0</td>\n",
       "      <td>(1, 0)</td>\n",
       "    </tr>\n",
       "    <tr>\n",
       "      <th>12225</th>\n",
       "      <td>14362</td>\n",
       "      <td>1.650528</td>\n",
       "      <td>1.361552</td>\n",
       "      <td>-133.037219</td>\n",
       "      <td>1</td>\n",
       "      <td>1</td>\n",
       "      <td>(1, 1)</td>\n",
       "    </tr>\n",
       "    <tr>\n",
       "      <th>6475</th>\n",
       "      <td>7637</td>\n",
       "      <td>1.688382</td>\n",
       "      <td>1.555753</td>\n",
       "      <td>-133.042354</td>\n",
       "      <td>1</td>\n",
       "      <td>2</td>\n",
       "      <td>(1, 2)</td>\n",
       "    </tr>\n",
       "    <tr>\n",
       "      <th>16891</th>\n",
       "      <td>19817</td>\n",
       "      <td>1.681544</td>\n",
       "      <td>1.919419</td>\n",
       "      <td>-133.040301</td>\n",
       "      <td>1</td>\n",
       "      <td>3</td>\n",
       "      <td>(1, 3)</td>\n",
       "    </tr>\n",
       "    <tr>\n",
       "      <th>15243</th>\n",
       "      <td>17877</td>\n",
       "      <td>1.374301</td>\n",
       "      <td>4.363427</td>\n",
       "      <td>-133.052081</td>\n",
       "      <td>1</td>\n",
       "      <td>4</td>\n",
       "      <td>(1, 4)</td>\n",
       "    </tr>\n",
       "    <tr>\n",
       "      <th>9931</th>\n",
       "      <td>11692</td>\n",
       "      <td>3.378681</td>\n",
       "      <td>1.247853</td>\n",
       "      <td>-133.066853</td>\n",
       "      <td>2</td>\n",
       "      <td>0</td>\n",
       "      <td>(2, 0)</td>\n",
       "    </tr>\n",
       "    <tr>\n",
       "      <th>2199</th>\n",
       "      <td>2599</td>\n",
       "      <td>3.437630</td>\n",
       "      <td>1.311201</td>\n",
       "      <td>-133.070022</td>\n",
       "      <td>2</td>\n",
       "      <td>1</td>\n",
       "      <td>(2, 1)</td>\n",
       "    </tr>\n",
       "    <tr>\n",
       "      <th>15692</th>\n",
       "      <td>18398</td>\n",
       "      <td>3.330159</td>\n",
       "      <td>1.488120</td>\n",
       "      <td>-133.057911</td>\n",
       "      <td>2</td>\n",
       "      <td>2</td>\n",
       "      <td>(2, 2)</td>\n",
       "    </tr>\n",
       "    <tr>\n",
       "      <th>12222</th>\n",
       "      <td>14359</td>\n",
       "      <td>1.803202</td>\n",
       "      <td>1.933215</td>\n",
       "      <td>-133.042149</td>\n",
       "      <td>2</td>\n",
       "      <td>3</td>\n",
       "      <td>(2, 3)</td>\n",
       "    </tr>\n",
       "    <tr>\n",
       "      <th>15773</th>\n",
       "      <td>18491</td>\n",
       "      <td>1.904610</td>\n",
       "      <td>5.423360</td>\n",
       "      <td>-133.027061</td>\n",
       "      <td>2</td>\n",
       "      <td>4</td>\n",
       "      <td>(2, 4)</td>\n",
       "    </tr>\n",
       "    <tr>\n",
       "      <th>11595</th>\n",
       "      <td>13625</td>\n",
       "      <td>4.456050</td>\n",
       "      <td>1.136394</td>\n",
       "      <td>-133.102987</td>\n",
       "      <td>3</td>\n",
       "      <td>0</td>\n",
       "      <td>(3, 0)</td>\n",
       "    </tr>\n",
       "    <tr>\n",
       "      <th>7138</th>\n",
       "      <td>8433</td>\n",
       "      <td>4.762958</td>\n",
       "      <td>1.302713</td>\n",
       "      <td>-133.101594</td>\n",
       "      <td>3</td>\n",
       "      <td>1</td>\n",
       "      <td>(3, 1)</td>\n",
       "    </tr>\n",
       "    <tr>\n",
       "      <th>7213</th>\n",
       "      <td>8518</td>\n",
       "      <td>4.734506</td>\n",
       "      <td>1.486279</td>\n",
       "      <td>-133.090986</td>\n",
       "      <td>3</td>\n",
       "      <td>2</td>\n",
       "      <td>(3, 2)</td>\n",
       "    </tr>\n",
       "    <tr>\n",
       "      <th>12659</th>\n",
       "      <td>14855</td>\n",
       "      <td>4.506514</td>\n",
       "      <td>2.064932</td>\n",
       "      <td>-133.043648</td>\n",
       "      <td>3</td>\n",
       "      <td>3</td>\n",
       "      <td>(3, 3)</td>\n",
       "    </tr>\n",
       "    <tr>\n",
       "      <th>7229</th>\n",
       "      <td>8536</td>\n",
       "      <td>5.066721</td>\n",
       "      <td>1.203813</td>\n",
       "      <td>-133.103762</td>\n",
       "      <td>4</td>\n",
       "      <td>0</td>\n",
       "      <td>(4, 0)</td>\n",
       "    </tr>\n",
       "    <tr>\n",
       "      <th>7159</th>\n",
       "      <td>8456</td>\n",
       "      <td>5.240602</td>\n",
       "      <td>1.289886</td>\n",
       "      <td>-133.102803</td>\n",
       "      <td>4</td>\n",
       "      <td>1</td>\n",
       "      <td>(4, 1)</td>\n",
       "    </tr>\n",
       "    <tr>\n",
       "      <th>7224</th>\n",
       "      <td>8530</td>\n",
       "      <td>5.752770</td>\n",
       "      <td>1.448777</td>\n",
       "      <td>-133.100557</td>\n",
       "      <td>4</td>\n",
       "      <td>2</td>\n",
       "      <td>(4, 2)</td>\n",
       "    </tr>\n",
       "    <tr>\n",
       "      <th>12662</th>\n",
       "      <td>14859</td>\n",
       "      <td>5.494472</td>\n",
       "      <td>1.947005</td>\n",
       "      <td>-133.059737</td>\n",
       "      <td>4</td>\n",
       "      <td>3</td>\n",
       "      <td>(4, 3)</td>\n",
       "    </tr>\n",
       "  </tbody>\n",
       "</table>\n",
       "</div>"
      ],
      "text/plain": [
       "       Indices       c0h       c5h    energies c0h_cut c5h_cut cartesian\n",
       "11410    13409  1.358167  1.596017 -133.033312       0       2    (0, 2)\n",
       "13946    16350  1.302561  3.156200 -133.037843       0       3    (0, 3)\n",
       "8247      9742  1.206473  3.983276 -133.079256       0       4    (0, 4)\n",
       "10293    12096  1.674298  1.235916 -133.035990       1       0    (1, 0)\n",
       "12225    14362  1.650528  1.361552 -133.037219       1       1    (1, 1)\n",
       "6475      7637  1.688382  1.555753 -133.042354       1       2    (1, 2)\n",
       "16891    19817  1.681544  1.919419 -133.040301       1       3    (1, 3)\n",
       "15243    17877  1.374301  4.363427 -133.052081       1       4    (1, 4)\n",
       "9931     11692  3.378681  1.247853 -133.066853       2       0    (2, 0)\n",
       "2199      2599  3.437630  1.311201 -133.070022       2       1    (2, 1)\n",
       "15692    18398  3.330159  1.488120 -133.057911       2       2    (2, 2)\n",
       "12222    14359  1.803202  1.933215 -133.042149       2       3    (2, 3)\n",
       "15773    18491  1.904610  5.423360 -133.027061       2       4    (2, 4)\n",
       "11595    13625  4.456050  1.136394 -133.102987       3       0    (3, 0)\n",
       "7138      8433  4.762958  1.302713 -133.101594       3       1    (3, 1)\n",
       "7213      8518  4.734506  1.486279 -133.090986       3       2    (3, 2)\n",
       "12659    14855  4.506514  2.064932 -133.043648       3       3    (3, 3)\n",
       "7229      8536  5.066721  1.203813 -133.103762       4       0    (4, 0)\n",
       "7159      8456  5.240602  1.289886 -133.102803       4       1    (4, 1)\n",
       "7224      8530  5.752770  1.448777 -133.100557       4       2    (4, 2)\n",
       "12662    14859  5.494472  1.947005 -133.059737       4       3    (4, 3)"
      ]
     },
     "execution_count": 22,
     "metadata": {},
     "output_type": "execute_result"
    }
   ],
   "source": [
    "df_final"
   ]
  },
  {
   "cell_type": "code",
   "execution_count": 30,
   "metadata": {
    "collapsed": false
   },
   "outputs": [],
   "source": [
    "np_final = df_final.index"
   ]
  },
  {
   "cell_type": "code",
   "execution_count": 31,
   "metadata": {
    "collapsed": false
   },
   "outputs": [],
   "source": [
    "np.savetxt(\"test_idx.txt\", np_final, delimiter=\" \", fmt=\"%s\")"
   ]
  },
  {
   "cell_type": "code",
   "execution_count": 34,
   "metadata": {
    "collapsed": false
   },
   "outputs": [
    {
     "data": {
      "text/plain": [
       "11410     99.873936\n",
       "13946     87.979957\n",
       "8247     -20.730081\n",
       "10293     92.844280\n",
       "12225     89.617417\n",
       "6475      76.137664\n",
       "16891     81.527775\n",
       "15243     50.605905\n",
       "9931      11.828560\n",
       "2199       3.509995\n",
       "15692     35.300969\n",
       "12222     76.678007\n",
       "15773    116.282687\n",
       "11595    -83.023564\n",
       "7138     -79.366016\n",
       "7213     -51.520512\n",
       "12659     72.741653\n",
       "7229     -85.056046\n",
       "7159     -82.538496\n",
       "7224     -76.645031\n",
       "12662     30.508450\n",
       "Name: energies, dtype: float64"
      ]
     },
     "execution_count": 34,
     "metadata": {},
     "output_type": "execute_result"
    }
   ],
   "source": [
    "(df_final.energies * 2625) + 349312.31810359145"
   ]
  },
  {
   "cell_type": "code",
   "execution_count": null,
   "metadata": {
    "collapsed": true
   },
   "outputs": [],
   "source": []
  }
 ],
 "metadata": {
  "kernelspec": {
   "display_name": "Python [conda env:py36]",
   "language": "python",
   "name": "conda-env-py36-py"
  },
  "language_info": {
   "codemirror_mode": {
    "name": "ipython",
    "version": 3
   },
   "file_extension": ".py",
   "mimetype": "text/x-python",
   "name": "python",
   "nbconvert_exporter": "python",
   "pygments_lexer": "ipython3",
   "version": "3.6.2"
  }
 },
 "nbformat": 4,
 "nbformat_minor": 1
}
