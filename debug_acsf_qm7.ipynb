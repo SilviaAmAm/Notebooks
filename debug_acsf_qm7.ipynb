{
 "cells": [
  {
   "cell_type": "code",
   "execution_count": 1,
   "metadata": {
    "collapsed": false
   },
   "outputs": [
    {
     "name": "stderr",
     "output_type": "stream",
     "text": [
      "/Users/walfits/anaconda2/envs/py36/lib/python3.6/site-packages/h5py/__init__.py:36: FutureWarning: Conversion of the second argument of issubdtype from `float` to `np.floating` is deprecated. In future, it will be treated as `np.float64 == np.dtype(float).type`.\n",
      "  from ._conv import register_converters as _register_converters\n"
     ]
    }
   ],
   "source": [
    "from aglaia import symm_funct\n",
    "from aglaia.tests import np_symm_funct\n",
    "import numpy as np\n",
    "import tensorflow as tf"
   ]
  },
  {
   "cell_type": "code",
   "execution_count": 2,
   "metadata": {
    "collapsed": true
   },
   "outputs": [],
   "source": [
    "input_data = \"/Volumes/Transcend/repositories/Aglaia/aglaia/tests/qm7_testdata.npz\"\n",
    "data = np.load(input_data)"
   ]
  },
  {
   "cell_type": "code",
   "execution_count": 3,
   "metadata": {
    "collapsed": true
   },
   "outputs": [],
   "source": [
    "xyzs = data[\"arr_0\"]\n",
    "zs = data[\"arr_1\"]\n",
    "elements = data[\"arr_2\"]\n",
    "element_pairs = data[\"arr_3\"]"
   ]
  },
  {
   "cell_type": "code",
   "execution_count": 4,
   "metadata": {
    "collapsed": true
   },
   "outputs": [],
   "source": [
    "n_samples = zs.shape[0]\n",
    "max_n_atoms = zs.shape[1]"
   ]
  },
  {
   "cell_type": "code",
   "execution_count": 5,
   "metadata": {
    "collapsed": true
   },
   "outputs": [],
   "source": [
    "zs_tf = tf.placeholder(shape=[n_samples, max_n_atoms], dtype=tf.int32, name=\"zs\")\n",
    "xyz_tf = tf.placeholder(shape=[n_samples, max_n_atoms, 3], dtype=tf.float32, name=\"xyz\")"
   ]
  },
  {
   "cell_type": "code",
   "execution_count": 6,
   "metadata": {
    "collapsed": true
   },
   "outputs": [],
   "source": [
    "radial_cutoff = 500.0\n",
    "angular_cutoff = 500.0\n",
    "radial_rs = [0.0]\n",
    "angular_rs = [0.0]\n",
    "theta_s_ar = [3.0]\n",
    "zeta = 3.0\n",
    "eta = 2.0"
   ]
  },
  {
   "cell_type": "code",
   "execution_count": 7,
   "metadata": {
    "collapsed": true
   },
   "outputs": [],
   "source": [
    "rad_cutoff = tf.constant(radial_cutoff, dtype=tf.float32)\n",
    "ang_cutoff = tf.constant(angular_cutoff, dtype=tf.float32)\n",
    "rad_rs = tf.constant(radial_rs, dtype=tf.float32)\n",
    "ang_rs = tf.constant(angular_rs, dtype=tf.float32)\n",
    "theta_s = tf.constant(theta_s_ar, dtype=tf.float32)\n",
    "zeta_tf = tf.constant(zeta, dtype=tf.float32)\n",
    "eta_tf = tf.constant(eta, dtype=tf.float32)"
   ]
  },
  {
   "cell_type": "code",
   "execution_count": 8,
   "metadata": {
    "collapsed": false
   },
   "outputs": [],
   "source": [
    "pre_sum_rad = symm_funct.acsf_rad(xyz_tf, zs_tf, rad_cutoff, rad_rs, eta_tf)  # (n_samples, n_atoms, n_atoms, n_rad_rs)"
   ]
  },
  {
   "cell_type": "code",
   "execution_count": 9,
   "metadata": {
    "collapsed": false
   },
   "outputs": [],
   "source": [
    "rad_term = symm_funct.sum_rad(pre_sum_rad, zs_tf, elements, rad_rs)"
   ]
  },
  {
   "cell_type": "code",
   "execution_count": 10,
   "metadata": {
    "collapsed": true
   },
   "outputs": [],
   "source": [
    "sess = tf.Session()\n",
    "sess.run(tf.global_variables_initializer())"
   ]
  },
  {
   "cell_type": "code",
   "execution_count": 11,
   "metadata": {
    "collapsed": false
   },
   "outputs": [],
   "source": [
    "tf_rad = sess.run(rad_term, feed_dict={xyz_tf: xyzs, zs_tf:zs})"
   ]
  },
  {
   "cell_type": "code",
   "execution_count": 12,
   "metadata": {
    "collapsed": true
   },
   "outputs": [],
   "source": [
    "rad_term = np_symm_funct.acsf_rad(xyzs, zs, elements, radial_cutoff, radial_rs, eta)"
   ]
  },
  {
   "cell_type": "code",
   "execution_count": 13,
   "metadata": {
    "collapsed": false
   },
   "outputs": [],
   "source": [
    "pre_sum_ang = symm_funct.acsf_ang(xyz_tf, zs_tf, ang_cutoff, ang_rs, theta_s, zeta_tf, eta_tf)"
   ]
  },
  {
   "cell_type": "code",
   "execution_count": 14,
   "metadata": {
    "collapsed": false
   },
   "outputs": [],
   "source": [
    "ang_term = symm_funct.sum_ang(pre_sum_ang, zs_tf, element_pairs, ang_rs, theta_s)"
   ]
  },
  {
   "cell_type": "code",
   "execution_count": 15,
   "metadata": {
    "collapsed": false
   },
   "outputs": [],
   "source": [
    "tf_ang = sess.run(ang_term, feed_dict={xyz_tf: xyzs, zs_tf:zs})"
   ]
  },
  {
   "cell_type": "code",
   "execution_count": 16,
   "metadata": {
    "collapsed": true
   },
   "outputs": [],
   "source": [
    "# tf_ang = sess.run(pre_sum_ang, feed_dict={xyz_tf: xyzs, zs_tf:zs})"
   ]
  },
  {
   "cell_type": "code",
   "execution_count": 17,
   "metadata": {
    "collapsed": false
   },
   "outputs": [],
   "source": [
    "ang_term = np_symm_funct.acsf_ang(xyzs, zs, element_pairs, angular_cutoff, angular_rs, theta_s_ar, zeta, eta)"
   ]
  },
  {
   "cell_type": "code",
   "execution_count": 18,
   "metadata": {
    "collapsed": false
   },
   "outputs": [],
   "source": [
    "# print(np.any(np.isnan(tf_ang[1])))\n",
    "# print(np.any(tf_ang[1]<-1))"
   ]
  },
  {
   "cell_type": "code",
   "execution_count": 19,
   "metadata": {
    "collapsed": false
   },
   "outputs": [],
   "source": [
    "# print(np.any(np.isnan(tf_ang[2])))\n",
    "# print(np.any(tf_ang[2]==0))"
   ]
  },
  {
   "cell_type": "code",
   "execution_count": 20,
   "metadata": {
    "collapsed": false
   },
   "outputs": [
    {
     "name": "stdout",
     "output_type": "stream",
     "text": [
      "[[[4.37901467e-01 0.00000000e+00 0.00000000e+00]\n",
      "  [3.30623618e-04 0.00000000e+00 2.50179670e-04]\n",
      "  [3.30630282e-04 0.00000000e+00 2.50183075e-04]\n",
      "  [3.30633833e-04 0.00000000e+00 2.50184210e-04]\n",
      "  [3.30635521e-04 0.00000000e+00 2.50185782e-04]\n",
      "  [0.00000000e+00 0.00000000e+00 0.00000000e+00]\n",
      "  [0.00000000e+00 0.00000000e+00 0.00000000e+00]\n",
      "  [0.00000000e+00 0.00000000e+00 0.00000000e+00]\n",
      "  [0.00000000e+00 0.00000000e+00 0.00000000e+00]]\n",
      "\n",
      " [[2.39127696e-01 0.00000000e+00 8.24202448e-02]\n",
      "  [2.39127815e-01 0.00000000e+00 8.24202523e-02]\n",
      "  [2.23400348e-04 4.82145879e-05 4.37797600e-04]\n",
      "  [2.23390714e-04 4.82144569e-05 4.37777431e-04]\n",
      "  [2.23442359e-04 4.82373798e-05 4.37895535e-04]\n",
      "  [2.23441763e-04 4.82373107e-05 4.37893817e-04]\n",
      "  [2.23392664e-04 4.82144715e-05 4.37779614e-04]\n",
      "  [2.23399809e-04 4.82147479e-05 4.37797833e-04]\n",
      "  [0.00000000e+00 0.00000000e+00 0.00000000e+00]]\n",
      "\n",
      " [[1.19420528e-01 0.00000000e+00 1.21512234e-01]\n",
      "  [1.19420536e-01 0.00000000e+00 1.21512257e-01]\n",
      "  [3.48050307e-05 2.10062044e-05 1.76527567e-04]\n",
      "  [3.48050307e-05 2.10062353e-05 1.76527756e-04]\n",
      "  [3.48050307e-05 2.10062044e-05 1.76527450e-04]\n",
      "  [3.48050307e-05 2.10062353e-05 1.76527625e-04]\n",
      "  [0.00000000e+00 0.00000000e+00 0.00000000e+00]\n",
      "  [0.00000000e+00 0.00000000e+00 0.00000000e+00]\n",
      "  [0.00000000e+00 0.00000000e+00 0.00000000e+00]]\n",
      "\n",
      " [[7.78857479e-03 0.00000000e+00 1.52614594e-01]\n",
      "  [7.78857479e-03 0.00000000e+00 1.52614519e-01]\n",
      "  [0.00000000e+00 9.90560967e-10 1.63105293e-11]\n",
      "  [0.00000000e+00 9.90559523e-10 1.63105293e-11]\n",
      "  [0.00000000e+00 0.00000000e+00 0.00000000e+00]\n",
      "  [0.00000000e+00 0.00000000e+00 0.00000000e+00]\n",
      "  [0.00000000e+00 0.00000000e+00 0.00000000e+00]\n",
      "  [0.00000000e+00 0.00000000e+00 0.00000000e+00]\n",
      "  [0.00000000e+00 0.00000000e+00 0.00000000e+00]]\n",
      "\n",
      " [[1.19587988e-01 6.96306699e-04 1.44301757e-01]\n",
      "  [1.19565919e-01 6.95904542e-04 1.44284755e-01]\n",
      "  [1.19569600e-01 6.95505587e-04 1.44272566e-01]\n",
      "  [6.24743188e-05 5.12730039e-05 3.31928488e-04]\n",
      "  [6.24771128e-05 5.12673359e-05 3.31928575e-04]\n",
      "  [6.24165332e-05 5.12536644e-05 3.31688207e-04]\n",
      "  [6.24182721e-05 5.12493280e-05 3.31688498e-04]\n",
      "  [6.24192035e-05 5.12491315e-05 3.31701915e-04]\n",
      "  [6.24169916e-05 5.12464831e-05 3.31689313e-04]]]\n"
     ]
    }
   ],
   "source": [
    "print(tf_ang)"
   ]
  },
  {
   "cell_type": "code",
   "execution_count": 21,
   "metadata": {
    "collapsed": false
   },
   "outputs": [
    {
     "name": "stdout",
     "output_type": "stream",
     "text": [
      "[]\n"
     ]
    }
   ],
   "source": [
    "nan_idx = np.argwhere(np.isnan(tf_ang[2]))\n",
    "print(nan_idx)"
   ]
  },
  {
   "cell_type": "code",
   "execution_count": 22,
   "metadata": {
    "collapsed": false
   },
   "outputs": [
    {
     "name": "stdout",
     "output_type": "stream",
     "text": [
      "[]\n"
     ]
    }
   ],
   "source": [
    "print(tf_ang[1][nan_idx])"
   ]
  }
 ],
 "metadata": {
  "anaconda-cloud": {},
  "kernelspec": {
   "display_name": "Python [conda env:py36]",
   "language": "python",
   "name": "conda-env-py36-py"
  },
  "language_info": {
   "codemirror_mode": {
    "name": "ipython",
    "version": 3
   },
   "file_extension": ".py",
   "mimetype": "text/x-python",
   "name": "python",
   "nbconvert_exporter": "python",
   "pygments_lexer": "ipython3",
   "version": "3.6.3"
  }
 },
 "nbformat": 4,
 "nbformat_minor": 1
}
